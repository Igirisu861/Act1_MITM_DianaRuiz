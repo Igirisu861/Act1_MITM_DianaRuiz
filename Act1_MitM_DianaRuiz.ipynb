{
  "nbformat": 4,
  "nbformat_minor": 0,
  "metadata": {
    "colab": {
      "provenance": [],
      "authorship_tag": "ABX9TyPeFKOMGxA8SGWj3zGXwNAL",
      "include_colab_link": true
    },
    "kernelspec": {
      "name": "python3",
      "display_name": "Python 3"
    },
    "language_info": {
      "name": "python"
    }
  },
  "cells": [
    {
      "cell_type": "markdown",
      "metadata": {
        "id": "view-in-github",
        "colab_type": "text"
      },
      "source": [
        "<a href=\"https://colab.research.google.com/github/Igirisu861/Act1_MITM_DianaRuiz/blob/main/Act1_MitM_DianaRuiz.ipynb\" target=\"_parent\"><img src=\"https://colab.research.google.com/assets/colab-badge.svg\" alt=\"Open In Colab\"/></a>"
      ]
    },
    {
      "cell_type": "markdown",
      "source": [
        "# **Actividad 1**\n",
        "---\n",
        "El objetivo de la actividad es simular que una persona externa, Eve, va a interceptar los mensajes entre Alice y Bob, quienes intercambian claves usando el algoritmo Diffie-Hellman."
      ],
      "metadata": {
        "id": "coLhIGvkAZLO"
      }
    },
    {
      "cell_type": "code",
      "execution_count": 5,
      "metadata": {
        "colab": {
          "base_uri": "https://localhost:8080/"
        },
        "id": "Eo94sCNHAVhA",
        "outputId": "cb39c9d2-533d-4de4-bc5d-a78803520d7d"
      },
      "outputs": [
        {
          "output_type": "stream",
          "name": "stdout",
          "text": [
            "\n",
            " Clave secreta de Alice interceptada por Eve: 1007312906346766879702847283597085945611785388145557356920376050760361600038915641437212599600819401157964428856809503738605435421074938982995855774342319943209116952217334655156611733337988243577570038673672593673470139207547833838185846340590879382381029759245880264624284671176885928831006909824781147446744574333349628921212286045481236448513813665288800466896828376352537490254871361513910057726454289763671385351768313175998136197317994031285753300621842860\n",
            "\n",
            " Clave secreta de Bob interceptada por Eve: 931718661205737517704405594553334200811824962131836249427611427977585976818550116308946533556042984063161084378405526693225670774032919041621850044361492083884403118702583616740981029328038259371290976098433119806496239493156234476294007748735379561284255542182964217571695405080284490837707962862669222524220781718728109406072027397912000322542563435237919789557549597949841851182763719734392637573654674478822984808100142269555608244349509515355148546320333240\n",
            "\n",
            " Clave secreta real que tiene Eve: 1007312906346766879702847283597085945611785388145557356920376050760361600038915641437212599600819401157964428856809503738605435421074938982995855774342319943209116952217334655156611733337988243577570038673672593673470139207547833838185846340590879382381029759245880264624284671176885928831006909824781147446744574333349628921212286045481236448513813665288800466896828376352537490254871361513910057726454289763671385351768313175998136197317994031285753300621842860\n",
            "\n",
            " Clave secreta real de Bob que tiene Eve: 931718661205737517704405594553334200811824962131836249427611427977585976818550116308946533556042984063161084378405526693225670774032919041621850044361492083884403118702583616740981029328038259371290976098433119806496239493156234476294007748735379561284255542182964217571695405080284490837707962862669222524220781718728109406072027397912000322542563435237919789557549597949841851182763719734392637573654674478822984808100142269555608244349509515355148546320333240\n"
          ]
        }
      ],
      "source": [
        "import hashlib\n",
        "import random\n",
        "\n",
        "#utilizamos número primo de RFC3526 de 1536 bits\n",
        "p = int(\"FFFFFFFFFFFFFFFFC90FDAA22168C234C4C6628B80DC1CD129024E088A67CC74020BBEA63B139B22514A08798E3404DDEF9519B3CD3A431B302B0A6DF25F14374FE1356D6D51C245E485B576625E7EC6F44C42E9A637ED6B0BFF5CB6F406B7EDEE386BFB5A899FA5AE9F24117C4B1FE649286651ECE45B3DC2007CB8A163BF0598DA48361C55D39A69163FA8FD24CF5F83655D23DCA3AD961C62F356208552BB9ED529077096966D670C354E4ABC9804F1746C08CA237327FFFFFFFFFFFFFFFF\", 16)\n",
        "#número alfa\n",
        "g = 2\n",
        "\n",
        "#Alice y Bob generan su número secreto\n",
        "sAlice = random.getrandbits(256)\n",
        "sBob = random.getrandbits(256)\n",
        "\n",
        "#Eve, en secreto, genera su propio número\n",
        "sEve = random.getrandbits(256)\n",
        "\n",
        "#Alice crea su llave secreta y la manda a quien cree que es Bob\n",
        "A = pow(g, sAlice, p)\n",
        "\n",
        "#Bob crea su llave secreta y la manda a quien cree que es Alice (es Eve)\n",
        "B = pow(g, sBob, p)\n",
        "\n",
        "#Eve intercepta ambas claves públicas y las reemplaza por su propia clave\n",
        "E = pow(g,sEve,p)\n",
        "\n",
        "Afake = E\n",
        "Bfake = E\n",
        "\n",
        "#Ahora Alice y Bob van a calcular su supuesta llave secreta con las claves falsas que Eve envió\n",
        "sAfake = pow(Bfake, sAlice, p)\n",
        "sBfake = pow(Afake, sBob, p)\n",
        "\n",
        "sA = pow(B, sAlice, p)\n",
        "sB = pow(A, sBob, p)\n",
        "\n",
        "#Finalmente, Eve logra calcular las llaves reales tras haber interceptado las claves\n",
        "sEa = pow(A, sEve, p)\n",
        "sEb = pow(B, sEve, p)\n",
        "\n",
        "print(f'\\n Clave secreta de Alice interceptada por Eve: {sAfake}')\n",
        "print(f'\\n Clave secreta de Bob interceptada por Eve: {sBfake}')\n",
        "print(f'\\n Clave secreta real que tiene Eve: {sEa}')\n",
        "print(f'\\n Clave secreta real de Bob que tiene Eve: {sEb}')\n"
      ]
    },
    {
      "cell_type": "markdown",
      "source": [
        "### **Verificar que la intercepción de las claves haya funcionado**\n",
        "---"
      ],
      "metadata": {
        "id": "mq2ON50_Ijsy"
      }
    },
    {
      "cell_type": "code",
      "source": [
        "h1A = hashlib.sha512(int.to_bytes(sAfake,length=1024, byteorder='big')).hexdigest()\n",
        "h1E = hashlib.sha512(int.to_bytes(sEa,length=1024, byteorder='big')).hexdigest()\n",
        "\n",
        "h2B = hashlib.sha512(int.to_bytes(sBfake,length=1024, byteorder='big')).hexdigest()\n",
        "h2B = hashlib.sha512(int.to_bytes(sEb,length=1024, byteorder='big')).hexdigest()\n",
        "\n",
        "if(h1A == h1E and h2B == h2B):\n",
        "    print(\"Claves interceptadas con éxito\")\n",
        "else:\n",
        "    print(\"Ataque fallido\")"
      ],
      "metadata": {
        "colab": {
          "base_uri": "https://localhost:8080/"
        },
        "id": "I3ZJ6q5vIjPK",
        "outputId": "85786fa4-0fb5-400a-b83b-44359615b0a8"
      },
      "execution_count": 7,
      "outputs": [
        {
          "output_type": "stream",
          "name": "stdout",
          "text": [
            "Claves interceptadas con éxito\n"
          ]
        }
      ]
    }
  ]
}